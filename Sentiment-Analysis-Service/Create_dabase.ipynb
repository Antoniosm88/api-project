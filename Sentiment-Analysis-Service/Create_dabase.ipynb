{
 "cells": [
  {
   "cell_type": "code",
   "execution_count": 32,
   "metadata": {},
   "outputs": [],
   "source": [
    "from pymongo import MongoClient\n",
    "import re\n",
    "import pandas as pd\n",
    "import pymongo\n",
    "from src.check import *\n",
    "from src.create_new import *\n",
    "import requests"
   ]
  },
  {
   "cell_type": "code",
   "execution_count": 2,
   "metadata": {},
   "outputs": [],
   "source": [
    "client = MongoClient()"
   ]
  },
  {
   "cell_type": "code",
   "execution_count": 3,
   "metadata": {},
   "outputs": [],
   "source": [
    "antonio_api = client.get_database(\"Antoniopepiapi\") "
   ]
  },
  {
   "cell_type": "code",
   "execution_count": 12,
   "metadata": {},
   "outputs": [],
   "source": [
    "presentadores = [{\"name\":\"Pablo Motos\"},\n",
    "              {\"name\":\"Xavier Sarda\"},\n",
    "              {\"name\":\"Ana Rosa\"},\n",
    "              {\"name\":\"Joaquín Prat\"},\n",
    "              {\"name\":\"Mercedes Mila\"},\n",
    "              {\"name\":\"María Teresa Campos\"},\n",
    "              {\"name\":\"Buenafuente\"},\n",
    "              {\"name\":\"Risto Mejide\"},\n",
    "              {\"name\":\"Jesús Vázquez\"},\n",
    "              {\"name\":\"Paula Vázquez\"},\n",
    "]"
   ]
  },
  {
   "cell_type": "code",
   "execution_count": null,
   "metadata": {},
   "outputs": [],
   "source": [
    "for i in presentadores:\n",
    "    print(i)"
   ]
  },
  {
   "cell_type": "code",
   "execution_count": null,
   "metadata": {},
   "outputs": [],
   "source": [
    "#def insert_new_user(database,col,dic):\n",
    "#    for i in dic:\n",
    "#        f\"{database}.{col}.{insert_one}({i})"
   ]
  },
  {
   "cell_type": "code",
   "execution_count": 20,
   "metadata": {},
   "outputs": [
    {
     "name": "stdout",
     "output_type": "stream",
     "text": [
      "Pablo Motos\n",
      "1\n",
      "Xavier Sarda\n",
      "1\n",
      "Ana Rosa\n",
      "1\n",
      "Joaquín Prat\n",
      "1\n",
      "Mercedes Mila\n",
      "1\n",
      "María Teresa Campos\n",
      "1\n",
      "Buenafuente\n",
      "1\n",
      "Risto Mejide\n",
      "1\n",
      "Jesús Vázquez\n",
      "1\n",
      "Paula Vázquez\n",
      "1\n"
     ]
    }
   ],
   "source": [
    "for i in presentadores:\n",
    "    var=i[\"name\"]\n",
    "    query = {\"name\":{\"$eq\":f\"{var}\"}}\n",
    "    cur = antonio_api.users.find(query)\n",
    "    data = list(cur)\n",
    "    if len(data)==0:\n",
    "        print(var)\n",
    "        antonio_api.users.insert_one(i)\n",
    "    else:\n",
    "        print(var)\n",
    "        print(len(data))\n"
   ]
  },
  {
   "cell_type": "code",
   "execution_count": null,
   "metadata": {},
   "outputs": [],
   "source": [
    "var=\"Alberto\"\n",
    "query = {\"name\":{\"$eq\":f\"{var}\"}}\n",
    "cur = antonio_api.users.find(query)\n",
    "data = list(cur)\n",
    "print(len(data))"
   ]
  },
  {
   "cell_type": "code",
   "execution_count": null,
   "metadata": {
    "scrolled": true
   },
   "outputs": [],
   "source": [
    "for i in presentadores:\n",
    "    print(i)"
   ]
  },
  {
   "cell_type": "code",
   "execution_count": null,
   "metadata": {},
   "outputs": [],
   "source": [
    "print(presentadores)"
   ]
  },
  {
   "cell_type": "code",
   "execution_count": null,
   "metadata": {},
   "outputs": [],
   "source": [
    "db = client.AntonioSpyapp\n",
    "collection = db.users\n",
    "data = pd.DataFrame(list(collection.find()))"
   ]
  },
  {
   "cell_type": "code",
   "execution_count": null,
   "metadata": {},
   "outputs": [],
   "source": [
    "import requests\n"
   ]
  },
  {
   "cell_type": "code",
   "execution_count": null,
   "metadata": {},
   "outputs": [],
   "source": [
    "personajes = [{\"name\":\"Mike Wheeler\"},\n",
    "              {\"name\":\"Once\"},\n",
    "              {\"name\":\"Billy Hargrove\"},\n",
    "              {\"name\":\"Dustin Henderson\"},\n",
    "              {\"name\":\"Steve Harrington\"},\n",
    "              {\"name\":\"Will\"},\n",
    "              {\"name\":\"Suzie\"},\n",
    "              {\"name\":\"Jonathan\"},\n",
    "              {\"name\":\"Joyce Byers\"},\n",
    "              {\"name\":\"Erica Sinclair\"},\n",
    "              {\"name\":\"Karen Wheeler\"},\n",
    "              {\"name\":\"Max\"},\n",
    "              {\"name\":\"Bob Newby\"},\n",
    "              {\"name\":\"Nancy Wheeler\"},\n",
    "              {\"name\":\"Jim Hopper\"},\n",
    "              {\"name\":\"Dr. Owens\"},\n",
    "              {\"name\":\"Kali\"},\n",
    "              {\"name\":\"Murray Bauman\"},\n",
    "              {\"name\":\"Pablo Motos\"}\n",
    "]"
   ]
  },
  {
   "cell_type": "code",
   "execution_count": null,
   "metadata": {},
   "outputs": [],
   "source": [
    "for i in personajes:\n",
    "    try:\n",
    "        coll_user.insert_one(i)\n",
    "    except:\n",
    "        print(f\"{i} already exists\")"
   ]
  },
  {
   "cell_type": "code",
   "execution_count": null,
   "metadata": {},
   "outputs": [],
   "source": []
  },
  {
   "cell_type": "code",
   "execution_count": null,
   "metadata": {},
   "outputs": [],
   "source": [
    "create_user(\"Antonio Ortiz\")"
   ]
  },
  {
   "cell_type": "code",
   "execution_count": 76,
   "metadata": {
    "scrolled": true
   },
   "outputs": [
    {
     "name": "stdout",
     "output_type": "stream",
     "text": [
      "<Response [200]>\n"
     ]
    },
    {
     "data": {
      "text/plain": [
       "'yeeeehaaa we have create \"Antonio\"'"
      ]
     },
     "execution_count": 76,
     "metadata": {},
     "output_type": "execute_result"
    }
   ],
   "source": [
    "db_names = requests.get(f'http://localhost:3000/user/create/\"Antonio\"')\n",
    "print(db_names)\n",
    "db_names.text"
   ]
  },
  {
   "cell_type": "code",
   "execution_count": 50,
   "metadata": {},
   "outputs": [
    {
     "data": {
      "text/plain": [
       "<Response [200]>"
      ]
     },
     "execution_count": 50,
     "metadata": {},
     "output_type": "execute_result"
    }
   ],
   "source": [
    "import requests\n",
    "url = \"http://localhost:3000/hello\"\n",
    "requests.get(url)"
   ]
  },
  {
   "cell_type": "code",
   "execution_count": 56,
   "metadata": {},
   "outputs": [
    {
     "data": {
      "text/plain": [
       "<Response [200]>"
      ]
     },
     "execution_count": 56,
     "metadata": {},
     "output_type": "execute_result"
    }
   ],
   "source": [
    "#@app.route(\"http://localhost:3000/user/create/'Antonio'\")\n",
    "requests.get(\"http://localhost:3000/user/create/Antonio\")"
   ]
  },
  {
   "cell_type": "code",
   "execution_count": 34,
   "metadata": {},
   "outputs": [
    {
     "name": "stdout",
     "output_type": "stream",
     "text": [
      "<Response [200]>\n"
     ]
    }
   ],
   "source": [
    "var=requests.get(\"http://localhost:3000/user/create/'Albertito1'\")\n",
    "print(var)"
   ]
  },
  {
   "cell_type": "code",
   "execution_count": null,
   "metadata": {},
   "outputs": [],
   "source": [
    "nombre=\"Antonio\"\n",
    "query = {\"name\":{\"$eq\":f\"{nombre}\"}}\n",
    "cur = antonio_api.users.find(query)\n",
    "data = list(cur)\n",
    "print(len(data))"
   ]
  },
  {
   "cell_type": "code",
   "execution_count": null,
   "metadata": {},
   "outputs": [],
   "source": [
    "nombre3=\"Albertito\"\n",
    "query1 = {\"name\":{\"$eq\":f\"{nombre3}\"}}\n",
    "cur1 = antonio_api.users.find(query1)\n",
    "data1 = list(cur1)\n",
    "print(len(data1))"
   ]
  },
  {
   "cell_type": "code",
   "execution_count": null,
   "metadata": {},
   "outputs": [],
   "source": [
    "nombre4=\"Paco\"\n",
    "query = {\"name\":{\"$eq\":f\"{nombre4}\"}}\n",
    "cur = antonio_api.users.find(query)\n",
    "data = list(cur)\n",
    "print(len(data))"
   ]
  },
  {
   "cell_type": "code",
   "execution_count": 5,
   "metadata": {},
   "outputs": [],
   "source": [
    "db= antonio_api.users"
   ]
  },
  {
   "cell_type": "code",
   "execution_count": null,
   "metadata": {},
   "outputs": [],
   "source": [
    "print(antonio_api.users)"
   ]
  },
  {
   "cell_type": "code",
   "execution_count": null,
   "metadata": {},
   "outputs": [],
   "source": [
    "result= antonio_api.users.find_one(\"Antonio\")"
   ]
  },
  {
   "cell_type": "code",
   "execution_count": null,
   "metadata": {},
   "outputs": [],
   "source": [
    "print(result)"
   ]
  },
  {
   "cell_type": "code",
   "execution_count": 9,
   "metadata": {},
   "outputs": [
    {
     "data": {
      "text/plain": [
       "0"
      ]
     },
     "execution_count": 9,
     "metadata": {},
     "output_type": "execute_result"
    }
   ],
   "source": [
    "query = {\"name\":{\"$eq\":\"Antonio\"}}\n",
    "cur = db.users.find(query)\n",
    "data = list(cur)\n",
    "len(data)"
   ]
  },
  {
   "cell_type": "code",
   "execution_count": 11,
   "metadata": {},
   "outputs": [
    {
     "name": "stdout",
     "output_type": "stream",
     "text": [
      "0\n"
     ]
    }
   ],
   "source": [
    "var=\"Antonio\"\n",
    "query = {\"name\":{\"$eq\":f\"{var}\"}}\n",
    "cur = db.users.find(query)\n",
    "data = list(cur)\n",
    "print(len(data))"
   ]
  },
  {
   "cell_type": "code",
   "execution_count": 26,
   "metadata": {},
   "outputs": [
    {
     "name": "stdout",
     "output_type": "stream",
     "text": [
      "1\n"
     ]
    }
   ],
   "source": [
    "var=\"Antonio\"\n",
    "query = {\"name\":{\"$eq\":f\"{var}\"}}\n",
    "cur = antonio_api.users.find(query)\n",
    "data = list(cur)\n",
    "if len(data)==0:\n",
    "    print(\"hola\")\n",
    "else:\n",
    "    print(len(data))"
   ]
  },
  {
   "cell_type": "code",
   "execution_count": 59,
   "metadata": {},
   "outputs": [],
   "source": [
    "client = pymongo.MongoClient()\n",
    "db = client[ \"Antoniopepiapi\" ] # makes a test database called \"testdb\"\n",
    "col = db[ \"users\" ] #makes a collection called \"testcol\" in the \"testdb\""
   ]
  },
  {
   "cell_type": "code",
   "execution_count": 65,
   "metadata": {},
   "outputs": [],
   "source": [
    "from pymongo import MongoClient\n",
    "\n",
    "dbName = \"Antoniopepiapi\"\n",
    "mongodbURL = f\"mongodb://localhost/{dbName}\"\n",
    "\n",
    "client = MongoClient(mongodbURL, connectTimeoutMS=2000, serverSelectionTimeoutMS=2000)\n",
    "db = client.get_database()"
   ]
  },
  {
   "cell_type": "code",
   "execution_count": 68,
   "metadata": {},
   "outputs": [],
   "source": [
    "def check_user1(name):\n",
    "    query = {\"name\":{\"$eq\":f\"{name}\"}}\n",
    "    cur = db.users.find(query)\n",
    "    data = list(cur)\n",
    "    if len(data)==0:\n",
    "        print(len(data))\n",
    "        return True\n",
    "    else:\n",
    "        print(len(data))\n",
    "        return False"
   ]
  },
  {
   "cell_type": "code",
   "execution_count": 70,
   "metadata": {},
   "outputs": [
    {
     "data": {
      "text/plain": [
       "True"
      ]
     },
     "execution_count": 70,
     "metadata": {},
     "output_type": "execute_result"
    }
   ],
   "source": [
    "check_user(\"Antonio\")"
   ]
  },
  {
   "cell_type": "code",
   "execution_count": null,
   "metadata": {},
   "outputs": [],
   "source": []
  }
 ],
 "metadata": {
  "kernelspec": {
   "display_name": "Python 3",
   "language": "python",
   "name": "python3"
  },
  "language_info": {
   "codemirror_mode": {
    "name": "ipython",
    "version": 3
   },
   "file_extension": ".py",
   "mimetype": "text/x-python",
   "name": "python",
   "nbconvert_exporter": "python",
   "pygments_lexer": "ipython3",
   "version": "3.8.2"
  }
 },
 "nbformat": 4,
 "nbformat_minor": 4
}
